{
 "cells": [
  {
   "cell_type": "code",
   "execution_count": null,
   "id": "23956a29",
   "metadata": {},
   "outputs": [],
   "source": [
    "# Fraud Detection with 5 ML Algorithms"
   ]
  },
  {
   "cell_type": "code",
   "execution_count": 1,
   "id": "b7db69eb",
   "metadata": {},
   "outputs": [],
   "source": [
    "import pandas as pd\n",
    "import numpy as np\n",
    "import matplotlib.pyplot as plt\n",
    "import seaborn as sns\n",
    "from sklearn.model_selection import train_test_split\n",
    "from sklearn.tree import DecisionTreeClassifier\n",
    "from sklearn.ensemble import RandomForestClassifier\n",
    "from sklearn.linear_model import LogisticRegression\n",
    "from sklearn.neighbors import KNeighborsClassifier\n",
    "from sklearn.svm import SVC\n",
    "from sklearn.metrics import accuracy_score, classification_report, confusion_matrix\n",
    "from sklearn.metrics import accuracy_score, f1_score\n",
    "from sklearn.utils import resample\n"
   ]
  },
  {
   "cell_type": "code",
   "execution_count": 2,
   "id": "4aa247c1",
   "metadata": {},
   "outputs": [],
   "source": [
    "import plotly.io as pio\n",
    "pio.renderers.default = 'browser'  #Forces chart to open in web browser"
   ]
  },
  {
   "cell_type": "code",
   "execution_count": 3,
   "id": "c257c12b",
   "metadata": {},
   "outputs": [],
   "source": [
    "import pandas as pd\n",
    "import plotly.express as px\n",
    "import plotly.io as pio\n"
   ]
  },
  {
   "cell_type": "code",
   "execution_count": 4,
   "id": "9a900168",
   "metadata": {},
   "outputs": [
    {
     "data": {
      "text/html": [
       "<div>\n",
       "<style scoped>\n",
       "    .dataframe tbody tr th:only-of-type {\n",
       "        vertical-align: middle;\n",
       "    }\n",
       "\n",
       "    .dataframe tbody tr th {\n",
       "        vertical-align: top;\n",
       "    }\n",
       "\n",
       "    .dataframe thead th {\n",
       "        text-align: right;\n",
       "    }\n",
       "</style>\n",
       "<table border=\"1\" class=\"dataframe\">\n",
       "  <thead>\n",
       "    <tr style=\"text-align: right;\">\n",
       "      <th></th>\n",
       "      <th>type</th>\n",
       "      <th>amount</th>\n",
       "      <th>oldbalanceOrg</th>\n",
       "      <th>newbalanceOrig</th>\n",
       "      <th>oldbalanceDest</th>\n",
       "      <th>newbalanceDest</th>\n",
       "      <th>isFraud</th>\n",
       "    </tr>\n",
       "  </thead>\n",
       "  <tbody>\n",
       "    <tr>\n",
       "      <th>95</th>\n",
       "      <td>TRANSFER</td>\n",
       "      <td>8457.71</td>\n",
       "      <td>8104.04</td>\n",
       "      <td>6748.94</td>\n",
       "      <td>18886.30</td>\n",
       "      <td>4427.17</td>\n",
       "      <td>0</td>\n",
       "    </tr>\n",
       "    <tr>\n",
       "      <th>15</th>\n",
       "      <td>CASH_OUT</td>\n",
       "      <td>4035.96</td>\n",
       "      <td>13632.27</td>\n",
       "      <td>9186.94</td>\n",
       "      <td>20447.76</td>\n",
       "      <td>42076.48</td>\n",
       "      <td>0</td>\n",
       "    </tr>\n",
       "    <tr>\n",
       "      <th>30</th>\n",
       "      <td>TRANSFER</td>\n",
       "      <td>5627.11</td>\n",
       "      <td>2553.79</td>\n",
       "      <td>3601.35</td>\n",
       "      <td>6955.81</td>\n",
       "      <td>48384.97</td>\n",
       "      <td>0</td>\n",
       "    </tr>\n",
       "    <tr>\n",
       "      <th>158</th>\n",
       "      <td>CASH_IN</td>\n",
       "      <td>2473.89</td>\n",
       "      <td>7534.78</td>\n",
       "      <td>19818.59</td>\n",
       "      <td>5711.90</td>\n",
       "      <td>23833.84</td>\n",
       "      <td>0</td>\n",
       "    </tr>\n",
       "    <tr>\n",
       "      <th>128</th>\n",
       "      <td>PAYMENT</td>\n",
       "      <td>8618.01</td>\n",
       "      <td>7890.44</td>\n",
       "      <td>19359.88</td>\n",
       "      <td>49436.44</td>\n",
       "      <td>20079.01</td>\n",
       "      <td>0</td>\n",
       "    </tr>\n",
       "    <tr>\n",
       "      <th>...</th>\n",
       "      <td>...</td>\n",
       "      <td>...</td>\n",
       "      <td>...</td>\n",
       "      <td>...</td>\n",
       "      <td>...</td>\n",
       "      <td>...</td>\n",
       "      <td>...</td>\n",
       "    </tr>\n",
       "    <tr>\n",
       "      <th>194</th>\n",
       "      <td>DEBIT</td>\n",
       "      <td>9448.09</td>\n",
       "      <td>11799.12</td>\n",
       "      <td>17572.58</td>\n",
       "      <td>38545.57</td>\n",
       "      <td>9461.08</td>\n",
       "      <td>0</td>\n",
       "    </tr>\n",
       "    <tr>\n",
       "      <th>159</th>\n",
       "      <td>TRANSFER</td>\n",
       "      <td>1029.35</td>\n",
       "      <td>14991.57</td>\n",
       "      <td>4100.04</td>\n",
       "      <td>28288.83</td>\n",
       "      <td>2218.83</td>\n",
       "      <td>0</td>\n",
       "    </tr>\n",
       "    <tr>\n",
       "      <th>6</th>\n",
       "      <td>TRANSFER</td>\n",
       "      <td>6988.55</td>\n",
       "      <td>4133.69</td>\n",
       "      <td>1820.04</td>\n",
       "      <td>37731.76</td>\n",
       "      <td>30520.23</td>\n",
       "      <td>0</td>\n",
       "    </tr>\n",
       "    <tr>\n",
       "      <th>27</th>\n",
       "      <td>CASH_OUT</td>\n",
       "      <td>2682.21</td>\n",
       "      <td>11370.41</td>\n",
       "      <td>11695.32</td>\n",
       "      <td>14396.48</td>\n",
       "      <td>3796.67</td>\n",
       "      <td>0</td>\n",
       "    </tr>\n",
       "    <tr>\n",
       "      <th>120</th>\n",
       "      <td>CASH_OUT</td>\n",
       "      <td>373.41</td>\n",
       "      <td>5889.88</td>\n",
       "      <td>9814.98</td>\n",
       "      <td>25275.39</td>\n",
       "      <td>29427.71</td>\n",
       "      <td>0</td>\n",
       "    </tr>\n",
       "  </tbody>\n",
       "</table>\n",
       "<p>100 rows × 7 columns</p>\n",
       "</div>"
      ],
      "text/plain": [
       "         type   amount  oldbalanceOrg  newbalanceOrig  oldbalanceDest  \\\n",
       "95   TRANSFER  8457.71        8104.04         6748.94        18886.30   \n",
       "15   CASH_OUT  4035.96       13632.27         9186.94        20447.76   \n",
       "30   TRANSFER  5627.11        2553.79         3601.35         6955.81   \n",
       "158   CASH_IN  2473.89        7534.78        19818.59         5711.90   \n",
       "128   PAYMENT  8618.01        7890.44        19359.88        49436.44   \n",
       "..        ...      ...            ...             ...             ...   \n",
       "194     DEBIT  9448.09       11799.12        17572.58        38545.57   \n",
       "159  TRANSFER  1029.35       14991.57         4100.04        28288.83   \n",
       "6    TRANSFER  6988.55        4133.69         1820.04        37731.76   \n",
       "27   CASH_OUT  2682.21       11370.41        11695.32        14396.48   \n",
       "120  CASH_OUT   373.41        5889.88         9814.98        25275.39   \n",
       "\n",
       "     newbalanceDest  isFraud  \n",
       "95          4427.17        0  \n",
       "15         42076.48        0  \n",
       "30         48384.97        0  \n",
       "158        23833.84        0  \n",
       "128        20079.01        0  \n",
       "..              ...      ...  \n",
       "194         9461.08        0  \n",
       "159         2218.83        0  \n",
       "6          30520.23        0  \n",
       "27          3796.67        0  \n",
       "120        29427.71        0  \n",
       "\n",
       "[100 rows x 7 columns]"
      ]
     },
     "execution_count": 4,
     "metadata": {},
     "output_type": "execute_result"
    }
   ],
   "source": [
    "# Load dataset\n",
    "df = pd.read_csv(r\"C:\\Users\\Saniya Firdose\\Downloads\\fraud_200_dataset.csv\")\n",
    "\n",
    "df.sample(n=100, random_state=42)\n"
   ]
  },
  {
   "cell_type": "code",
   "execution_count": 5,
   "id": "1120c04d",
   "metadata": {},
   "outputs": [
    {
     "data": {
      "text/plain": [
       "(200, 7)"
      ]
     },
     "execution_count": 5,
     "metadata": {},
     "output_type": "execute_result"
    }
   ],
   "source": [
    "df.shape "
   ]
  },
  {
   "cell_type": "code",
   "execution_count": 6,
   "id": "9459180b",
   "metadata": {},
   "outputs": [
    {
     "name": "stdout",
     "output_type": "stream",
     "text": [
      "type              0\n",
      "amount            0\n",
      "oldbalanceOrg     0\n",
      "newbalanceOrig    0\n",
      "oldbalanceDest    0\n",
      "newbalanceDest    0\n",
      "isFraud           0\n",
      "dtype: int64\n"
     ]
    }
   ],
   "source": [
    "print(df.isnull().sum()) "
   ]
  },
  {
   "cell_type": "code",
   "execution_count": 7,
   "id": "ba9edb65",
   "metadata": {},
   "outputs": [
    {
     "name": "stdout",
     "output_type": "stream",
     "text": [
      "type\n",
      "DEBIT       49\n",
      "CASH_IN     43\n",
      "TRANSFER    37\n",
      "PAYMENT     36\n",
      "CASH_OUT    35\n",
      "Name: count, dtype: int64\n"
     ]
    }
   ],
   "source": [
    "# Exploring transaction type\n",
    "print(df.type.value_counts()) # 0 - Cash in, 1 - Cash out, 2 - Debit, 3 - Payment, 4 - Transfer"
   ]
  },
  {
   "cell_type": "code",
   "execution_count": 8,
   "id": "fde3d767",
   "metadata": {},
   "outputs": [],
   "source": [
    "# Map 'type' column to numeric if not already mapped\n",
    "df['type'] = df['type'].map({\n",
    "    'CASH_OUT': 1,\n",
    "    'PAYMENT': 2,\n",
    "    'CASH_IN': 3,\n",
    "    'TRANSFER': 4,\n",
    "    'DEBIT': 5\n",
    "})\n",
    "\n",
    "# Drop missing values\n",
    "df.dropna(inplace=True)\n",
    "\n",
    "# Select required columns\n",
    "data = df[[\"type\", \"amount\", \"oldbalanceOrg\", \"newbalanceOrig\", \"isFraud\"]]\n",
    "\n",
    "# Separate classes\n",
    "fraud_df = data[data['isFraud'] == 1]\n",
    "nonfraud_df = data[data['isFraud'] == 0]\n",
    "\n",
    "# Oversample fraud to match non-fraud\n",
    "fraud_upsampled = resample(fraud_df, \n",
    "                           replace=True, \n",
    "                           n_samples=len(nonfraud_df), \n",
    "                           random_state=42)\n",
    "# Combine and shuffle\n",
    "balanced_data = pd.concat([nonfraud_df, fraud_upsampled])\n",
    "balanced_data = balanced_data.sample(frac=1, random_state=42).reset_index(drop=True)"
   ]
  },
  {
   "cell_type": "code",
   "execution_count": 9,
   "id": "8c5ff359",
   "metadata": {},
   "outputs": [
    {
     "data": {
      "image/png": "[encoded data removed]",
      "text/plain": [
       "<Figure size 600x600 with 1 Axes>"
      ]
     },
     "metadata": {},
     "output_type": "display_data"
    }
   ],
   "source": [
    "# Pie chart of class distribution\n",
    "plt.figure(figsize=(6,6))\n",
    "balanced_data['isFraud'].value_counts().plot.pie(autopct='%1.1f%%', \n",
    "                                                  labels=['No Fraud', 'Fraud'], \n",
    "                                                  startangle=90, \n",
    "                                                  colors=['skyblue', 'salmon'], \n",
    "                                                  wedgeprops={'edgecolor': 'black'})\n",
    "plt.title(\"Fraud vs No Fraud Distribution\")\n",
    "plt.ylabel('')\n",
    "plt.show()"
   ]
  },
  {
   "cell_type": "code",
   "execution_count": 10,
   "id": "e8b2810a",
   "metadata": {},
   "outputs": [],
   "source": [
    "# Prepare train/test data\n",
    "X = balanced_data.drop(\"isFraud\", axis=1)\n",
    "y = balanced_data[\"isFraud\"]\n",
    "X_train, X_test, y_train, y_test = train_test_split(X, y, test_size=0.2, random_state=42)\n",
    "\n",
    "# Define models\n",
    "models = {\n",
    "    \"Decision Tree\": DecisionTreeClassifier(),\n",
    "    \"Random Forest\": RandomForestClassifier(),\n",
    "    \"Logistic Regression\": LogisticRegression(max_iter=1000),\n",
    "    \"KNN\": KNeighborsClassifier(),\n",
    "    \"SVM\": SVC()\n",
    "}\n",
    "\n",
    "# Train and evaluate\n",
    "results = {\"Model\": [], \"Accuracy\": [], \"F1-Score\": []}\n"
   ]
  },
  {
   "cell_type": "code",
   "execution_count": 11,
   "id": "bef3cdc4",
   "metadata": {},
   "outputs": [],
   "source": [
    "for name, model in models.items():\n",
    "    model.fit(X_train, y_train)\n",
    "    y_pred = model.predict(X_test)\n",
    "    results[\"Model\"].append(name)\n",
    "    results[\"Accuracy\"].append(accuracy_score(y_test, y_pred))\n",
    "    results[\"F1-Score\"].append(f1_score(y_test, y_pred))\n",
    "\n",
    "df_results = pd.DataFrame(results)\n"
   ]
  },
  {
   "cell_type": "code",
   "execution_count": 12,
   "id": "b544078f",
   "metadata": {},
   "outputs": [
    {
     "data": {
      "image/png": "[encoded data removed]",
      "text/plain": [
       "<Figure size 1200x600 with 1 Axes>"
      ]
     },
     "metadata": {},
     "output_type": "display_data"
    }
   ],
   "source": [
    "# Plot Accuracy and F1-Score Comparison\n",
    "x = np.arange(len(df_results))\n",
    "plt.figure(figsize=(12, 6))\n",
    "plt.bar(x - 0.2, df_results[\"Accuracy\"], width=0.4, label=\"Accuracy\", color=\"skyblue\")\n",
    "plt.bar(x + 0.2, df_results[\"F1-Score\"], width=0.4, label=\"F1-Score\", color=\"orange\")\n",
    "plt.xticks(x, df_results[\"Model\"], rotation=30)\n",
    "plt.title(\"Model Accuracy vs F1-Score (Balanced Data)\")\n",
    "plt.ylabel(\"Score\")\n",
    "plt.ylim(0.5, 1.05)\n",
    "plt.legend()\n",
    "plt.grid(axis='y', linestyle='--', alpha=0.6)\n",
    "plt.tight_layout()\n",
    "plt.show()\n"
   ]
  },
  {
   "cell_type": "code",
   "execution_count": 13,
   "id": "9ed3afe3",
   "metadata": {},
   "outputs": [
    {
     "name": "stdout",
     "output_type": "stream",
     "text": [
      "                 Model  Accuracy  F1-Score\n",
      "0        Decision Tree  0.971014  0.976190\n",
      "1        Random Forest  0.985507  0.987952\n",
      "2  Logistic Regression  0.608696  0.640000\n",
      "3                  KNN  0.826087  0.846154\n",
      "4                  SVM  0.637681  0.626866\n"
     ]
    }
   ],
   "source": [
    "# Print results\n",
    "print(df_results)\n",
    "\n",
    "# Highlight best model by F1-Score\n",
    "best_model = df_results.sort_values(\"F1-Score\", ascending=False).iloc[0]"
   ]
  },
  {
   "cell_type": "code",
   "execution_count": 14,
   "id": "bee962f9",
   "metadata": {},
   "outputs": [
    {
     "data": {
      "image/png": "[encoded data removed]",
      "text/plain": [
       "<Figure size 600x400 with 1 Axes>"
      ]
     },
     "metadata": {},
     "output_type": "display_data"
    }
   ],
   "source": [
    "plt.figure(figsize=(6, 4))\n",
    "plt.bar([\"Accuracy\", \"F1-Score\"], [best_model[\"Accuracy\"], best_model[\"F1-Score\"]], color=[\"skyblue\", \"orange\"])\n",
    "plt.title(f\"Best Model: {best_model['Model']}\")\n",
    "plt.ylim(0.5, 1.05)\n",
    "plt.grid(axis='y', linestyle='--', alpha=0.6)\n",
    "plt.tight_layout()\n",
    "plt.show()\n"
   ]
  },
  {
   "cell_type": "code",
   "execution_count": 15,
   "id": "dcbba0a1",
   "metadata": {},
   "outputs": [],
   "source": [
    "# import plotly.express as px\n",
    "\n",
    "# Force chart to open in your default web browser\n",
    "pio.renderers.default = 'browser'\n",
    "\n",
    "# If you're using your actual df, make sure it has a 'type' column\n",
    "# Here's a dummy example to test:\n",
    "df = pd.DataFrame({\n",
    "    \"type\": [\"Credit\", \"Debit\", \"Credit\", \"Transfer\", \"Debit\", \"Credit\"]\n",
    "})\n",
    "\n",
    "# Step 1: Prepare the data\n",
    "type_counts = df[\"type\"].value_counts().reset_index()\n",
    "type_counts.columns = ['Transaction', 'Count']\n",
    "\n",
    "# Step 2: Create the Pie Chart\n",
    "fig = px.pie(type_counts,\n",
    "             values='Count',\n",
    "             names='Transaction',\n",
    "             hole=0.5,\n",
    "             title=\"Distribution of Transaction Type\")\n",
    "\n",
    "# Step 3: Show the figure (in browser)\n",
    "fig.show()\n",
    "\n"
   ]
  },
  {
   "cell_type": "code",
   "execution_count": 16,
   "id": "ac1cfe35",
   "metadata": {},
   "outputs": [
    {
     "data": {
      "text/html": [
       "<div>\n",
       "<style scoped>\n",
       "    .dataframe tbody tr th:only-of-type {\n",
       "        vertical-align: middle;\n",
       "    }\n",
       "\n",
       "    .dataframe tbody tr th {\n",
       "        vertical-align: top;\n",
       "    }\n",
       "\n",
       "    .dataframe thead th {\n",
       "        text-align: right;\n",
       "    }\n",
       "</style>\n",
       "<table border=\"1\" class=\"dataframe\">\n",
       "  <thead>\n",
       "    <tr style=\"text-align: right;\">\n",
       "      <th></th>\n",
       "      <th>type</th>\n",
       "      <th>amount</th>\n",
       "      <th>oldbalanceOrg</th>\n",
       "      <th>newbalanceOrig</th>\n",
       "      <th>isFraud</th>\n",
       "    </tr>\n",
       "  </thead>\n",
       "  <tbody>\n",
       "    <tr>\n",
       "      <th>0</th>\n",
       "      <td>4</td>\n",
       "      <td>8529.223322</td>\n",
       "      <td>19051.177374</td>\n",
       "      <td>0.000000</td>\n",
       "      <td>1</td>\n",
       "    </tr>\n",
       "    <tr>\n",
       "      <th>1</th>\n",
       "      <td>1</td>\n",
       "      <td>7712.736593</td>\n",
       "      <td>12089.466125</td>\n",
       "      <td>0.000000</td>\n",
       "      <td>1</td>\n",
       "    </tr>\n",
       "    <tr>\n",
       "      <th>2</th>\n",
       "      <td>1</td>\n",
       "      <td>7000.971593</td>\n",
       "      <td>7616.853873</td>\n",
       "      <td>0.000000</td>\n",
       "      <td>1</td>\n",
       "    </tr>\n",
       "    <tr>\n",
       "      <th>3</th>\n",
       "      <td>1</td>\n",
       "      <td>7635.811778</td>\n",
       "      <td>8452.636857</td>\n",
       "      <td>0.000000</td>\n",
       "      <td>1</td>\n",
       "    </tr>\n",
       "    <tr>\n",
       "      <th>4</th>\n",
       "      <td>5</td>\n",
       "      <td>2429.044052</td>\n",
       "      <td>181.448093</td>\n",
       "      <td>9597.941632</td>\n",
       "      <td>0</td>\n",
       "    </tr>\n",
       "  </tbody>\n",
       "</table>\n",
       "</div>"
      ],
      "text/plain": [
       "   type       amount  oldbalanceOrg  newbalanceOrig  isFraud\n",
       "0     4  8529.223322   19051.177374        0.000000        1\n",
       "1     1  7712.736593   12089.466125        0.000000        1\n",
       "2     1  7000.971593    7616.853873        0.000000        1\n",
       "3     1  7635.811778    8452.636857        0.000000        1\n",
       "4     5  2429.044052     181.448093     9597.941632        0"
      ]
     },
     "execution_count": 16,
     "metadata": {},
     "output_type": "execute_result"
    }
   ],
   "source": [
    "# Create balanced fraud and non-fraud data\n",
    "np.random.seed(42)\n",
    "fraud_data = pd.DataFrame({\n",
    "    \"type\": np.random.choice([1, 4], 250),\n",
    "    \"amount\": np.random.uniform(6000, 10000, 250),\n",
    "    \"oldbalanceOrg\": np.random.uniform(1000, 20000, 250),\n",
    "    \"newbalanceOrig\": 0,\n",
    "    \"isFraud\": 1\n",
    "})\n",
    "nonfraud_data = pd.DataFrame({\n",
    "    \"type\": np.random.choice([2, 3, 5], 250),\n",
    "    \"amount\": np.random.uniform(10, 5000, 250),\n",
    "    \"oldbalanceOrg\": np.random.uniform(0, 20000, 250),\n",
    "    \"newbalanceOrig\": np.random.uniform(0, 20000, 250),\n",
    "    \"isFraud\": 0\n",
    "})\n",
    "data = pd.concat([fraud_data, nonfraud_data]).sample(frac=1).reset_index(drop=True)\n",
    "data.head()"
   ]
  },
  {
   "cell_type": "code",
   "execution_count": 17,
   "id": "31edad87",
   "metadata": {},
   "outputs": [],
   "source": [
    "numeric_df = df.select_dtypes(include=['int64', 'float64'])\n",
    "\n",
    "correlation = numeric_df.corr()  "
   ]
  },
  {
   "cell_type": "code",
   "execution_count": 18,
   "id": "280fef8a",
   "metadata": {},
   "outputs": [
    {
     "name": "stdout",
     "output_type": "stream",
     "text": [
      "type    object\n",
      "dtype: object\n",
      "Empty DataFrame\n",
      "Columns: []\n",
      "Index: []\n"
     ]
    }
   ],
   "source": [
    "print(df.dtypes)\n",
    "print(correlation)\n"
   ]
  },
  {
   "cell_type": "code",
   "execution_count": 19,
   "id": "6e2d3b7c",
   "metadata": {},
   "outputs": [
    {
     "data": {
      "image/png": "[encoded data removed]",
      "text/plain": [
       "<Figure size 800x500 with 2 Axes>"
      ]
     },
     "metadata": {},
     "output_type": "display_data"
    }
   ],
   "source": [
    "# Dummy data\n",
    "df = pd.DataFrame({\n",
    "    'amount': [100, 200, 150, 300],\n",
    "    'balance': [1000, 950, 1200, 1100],\n",
    "    'isFraud': [0, 1, 0, 1]\n",
    "})\n",
    "\n",
    "correlation = df.corr()\n",
    "\n",
    "plt.figure(figsize=(8, 5))\n",
    "sns.heatmap(correlation, annot=True, cmap=\"coolwarm\", fmt=\".2f\")\n",
    "plt.title(\"Correlation with isFraud\")\n",
    "plt.show()"
   ]
  },
  {
   "cell_type": "code",
   "execution_count": 20,
   "id": "fca31adb",
   "metadata": {},
   "outputs": [
    {
     "name": "stdout",
     "output_type": "stream",
     "text": [
      "Index(['type', 'amount', 'oldbalanceOrg', 'newbalanceOrig', 'isFraud'], dtype='object')\n"
     ]
    }
   ],
   "source": [
    "print(data.columns)"
   ]
  },
  {
   "cell_type": "code",
   "execution_count": 21,
   "id": "ab3577d0",
   "metadata": {},
   "outputs": [
    {
     "name": "stdout",
     "output_type": "stream",
     "text": [
      "   type       amount  oldbalanceOrg  newbalanceOrig   isFraud\n",
      "0   NaN  8529.223322   19051.177374        0.000000     Fraud\n",
      "1   NaN  7712.736593   12089.466125        0.000000     Fraud\n",
      "2   NaN  7000.971593    7616.853873        0.000000     Fraud\n",
      "3   NaN  7635.811778    8452.636857        0.000000     Fraud\n",
      "4   NaN  2429.044052     181.448093     9597.941632  No Fraud\n"
     ]
    }
   ],
   "source": [
    "data[\"type\"] = data[\"type\"].map({\"CASH_OUT\": 1, \"PAYMENT\": 2, \n",
    "                                 \"CASH_IN\": 3, \"TRANSFER\": 4,\n",
    "                                 \"DEBIT\": 5})\n",
    "\n",
    "data[\"isFraud\"] = data[\"isFraud\"].map({0: \"No Fraud\", 1: \"Fraud\"})  # or correct name\n",
    "print(data.head())"
   ]
  },
  {
   "cell_type": "code",
   "execution_count": 23,
   "id": "d0dde78e",
   "metadata": {},
   "outputs": [
    {
     "name": "stdout",
     "output_type": "stream",
     "text": [
      "\n",
      "✅ Total Fraudulent Transactions Detected in Test Set: 42 out of 69\n"
     ]
    }
   ],
   "source": [
    "# ✅ Corrected code\n",
    "final_model_name = best_model[\"Model\"]       # Extract model name string\n",
    "final_model = models[final_model_name]       # Access the model from the models dictionary\n",
    "y_final_pred = final_model.predict(X_test)\n",
    "frauds_detected = np.sum(y_final_pred)\n",
    "\n",
    "print(f\"\\n✅ Total Fraudulent Transactions Detected in Test Set: {frauds_detected} out of {len(y_test)}\")\n"
   ]
  },
  {
   "cell_type": "code",
   "execution_count": null,
   "id": "f917cfab",
   "metadata": {},
   "outputs": [],
   "source": [
    "# Save results\n",
    "\n",
    "results_df.to_csv(r\"C:\\Users\\Saniya Firdose\\Downloads\\fraud_detection_comparison.csv\", index=False)\n",
    "print(\"Results saved to Downloads folder.\")\n",
    "# print(\"Results saved to 'fraud_detection_comparison.csv'\")\n"
   ]
  }
 ],
 "metadata": {
  "kernelspec": {
   "display_name": "Python (clean_env)",
   "language": "python",
   "name": "clean_env"
  },
  "language_info": {
   "codemirror_mode": {
    "name": "ipython",
    "version": 3
   },
   "file_extension": ".py",
   "mimetype": "text/x-python",
   "name": "python",
   "nbconvert_exporter": "python",
   "pygments_lexer": "ipython3",
   "version": "3.10.18"
  }
 },
 "nbformat": 4,
 "nbformat_minor": 5
}
